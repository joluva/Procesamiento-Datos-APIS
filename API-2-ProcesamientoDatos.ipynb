{
 "cells": [
  {
   "cell_type": "markdown",
   "id": "f047b6bc",
   "metadata": {},
   "source": [
    "# API-2 Módulo 2 Procesamiento de Datos"
   ]
  },
  {
   "cell_type": "code",
   "execution_count": 1,
   "id": "398623ac",
   "metadata": {},
   "outputs": [],
   "source": [
    "# importamos las bibliotecas pandas y numpy\n",
    "import pandas as pd \n",
    "import numpy as np"
   ]
  },
  {
   "cell_type": "markdown",
   "id": "28d63803",
   "metadata": {},
   "source": [
    "## Creación de array usando numpy"
   ]
  },
  {
   "cell_type": "code",
   "execution_count": 2,
   "id": "8bf49713",
   "metadata": {},
   "outputs": [
    {
     "name": "stdout",
     "output_type": "stream",
     "text": [
      "\n",
      "Impresion array 3D\n",
      "\n",
      "[[[ 1  2  3]\n",
      "  [ 4  5  6]\n",
      "  [ 7  8  9]]\n",
      "\n",
      " [[10 11 12]\n",
      "  [13 14 15]\n",
      "  [16 17 18]]\n",
      "\n",
      " [[19 20 21]\n",
      "  [22 23 24]\n",
      "  [25 26 27]]] \n",
      "\n"
     ]
    }
   ],
   "source": [
    "# diseño de array 3D\n",
    "array_3d=np.array([\n",
    "    [[1, 2, 3], [4, 5, 6], [7, 8, 9]],\n",
    "    [[10, 11, 12], [13, 14, 15], [16, 17, 18]],\n",
    "    [[19, 20, 21], [22, 23, 24], [25, 26, 27]]\n",
    "])\n",
    "\n",
    "print(\"\\nImpresion array 3D\\n\")\n",
    "print(array_3d,\"\\n\")"
   ]
  },
  {
   "cell_type": "markdown",
   "id": "c068eb2e",
   "metadata": {},
   "source": [
    "## Como ubicar un dato específico en un array 3D"
   ]
  },
  {
   "cell_type": "code",
   "execution_count": 6,
   "id": "3a3a6663",
   "metadata": {},
   "outputs": [
    {
     "name": "stdout",
     "output_type": "stream",
     "text": [
      "\n",
      "Mostrar dato del array 3D\n",
      "\n",
      "Selecciono primer índice 1, primer bloque\n",
      "\n",
      "Selecciono segundo índice 1, dentro del primer bloque, elijo segunda fila\n",
      "\n",
      "Selecciono tercer índice 2, dentro de esa fila elijo la tercer columna\n",
      "\n",
      "Resultado de la busqueda:  15\n"
     ]
    }
   ],
   "source": [
    "# muestro dato del array\n",
    "print(\"\\nMostrar dato del array 3D\\n\")\n",
    "print(\"Selecciono primer índice 1, primer bloque\\n\")\n",
    "print(\"Selecciono segundo índice 1, dentro del primer bloque, elijo segunda fila\\n\")\n",
    "print(\"Selecciono tercer índice 2, dentro de esa fila elijo la tercer columna\\n\")\n",
    "print(\"Resultado de la busqueda: \", array_3d[1,1,2])"
   ]
  },
  {
   "cell_type": "markdown",
   "id": "501e9193",
   "metadata": {},
   "source": [
    "## Usando la funcion - append - agregamos datos al array"
   ]
  },
  {
   "cell_type": "code",
   "execution_count": null,
   "id": "f43552ca",
   "metadata": {},
   "outputs": [
    {
     "name": "stdout",
     "output_type": "stream",
     "text": [
      "\n",
      "Agredo datos \n",
      "\n",
      "[[[  1   2   3 100]\n",
      "  [  4   5   6 200]\n",
      "  [  7   8   9 300]]\n",
      "\n",
      " [[ 10  11  12 400]\n",
      "  [ 13  14  15 500]\n",
      "  [ 16  17  18 600]]\n",
      "\n",
      " [[ 19  20  21 700]\n",
      "  [ 22  23  24 800]\n",
      "  [ 25  26  27 900]]]\n"
     ]
    }
   ],
   "source": [
    "# convierto la nueva fila a shape (1, 3)\n",
    "\n",
    "columnas_nuevas=np.array([\n",
    "    [[100], [200], [300]],\n",
    "    [[400], [500], [600]],\n",
    "    [[700], [800], [900]]\n",
    "])\n",
    "\n",
    "# uso append con axis=1 para agregar filas\n",
    "nuevo_array=np.append(array_3d,columnas_nuevas, axis=2)\n",
    "\n",
    "print(\"\\nAgredo datos \\n\")\n",
    "print(nuevo_array)"
   ]
  },
  {
   "cell_type": "markdown",
   "id": "8fa59ceb",
   "metadata": {},
   "source": [
    "## Creo un array 3D de dimensiones (3,3)"
   ]
  },
  {
   "cell_type": "code",
   "execution_count": 24,
   "id": "fcc8b187",
   "metadata": {},
   "outputs": [
    {
     "name": "stdout",
     "output_type": "stream",
     "text": [
      "\n",
      "Informe de la dimensión del array:\n",
      "\n",
      "(3, 3)\n"
     ]
    }
   ],
   "source": [
    "array=np.array([\n",
    "    [100,110,120],\n",
    "    [400,410,420],\n",
    "    [700,710,720]\n",
    "])\n",
    "\n",
    "print(\"\\nInforme de la dimensión del array:\\n\")\n",
    "print(array.shape)"
   ]
  },
  {
   "cell_type": "markdown",
   "id": "48738767",
   "metadata": {},
   "source": [
    "## Usando pandas creo dos series distintas unas de marcas_productos y otra color_cantidad"
   ]
  },
  {
   "cell_type": "code",
   "execution_count": 26,
   "id": "77ac2ce8",
   "metadata": {},
   "outputs": [
    {
     "name": "stdout",
     "output_type": "stream",
     "text": [
      "\n",
      "Muestra Serie marca_producto\n",
      "\n",
      "0    Motorola\n",
      "1     Samsung\n",
      "2      Philco\n",
      "3       Dream\n",
      "dtype: object\n"
     ]
    }
   ],
   "source": [
    "# creo serie marca_productos\n",
    "productos=pd.Series([\"Motorola\",\"Samsung\",\"Philco\",\"Dream\"], index=range(4))\n",
    "print(\"\\nMuestra Serie marca_producto\\n\")\n",
    "print(productos)"
   ]
  },
  {
   "cell_type": "code",
   "execution_count": 27,
   "id": "d6fe0f87",
   "metadata": {},
   "outputs": [
    {
     "name": "stdout",
     "output_type": "stream",
     "text": [
      "\n",
      "Muestra Serie color_cantidad\n",
      "\n",
      "Azul       10\n",
      "Blanco      5\n",
      "Celeste    34\n",
      "Negro      67\n",
      "Rojo       59\n",
      "dtype: int64\n"
     ]
    }
   ],
   "source": [
    "# creo la serie color_cantidad con el nombre de color en la columna de indice\n",
    "color=pd.Series([10,5,34,67,59], index=['Azul','Blanco','Celeste','Negro','Rojo'])\n",
    "print(\"\\nMuestra Serie color_cantidad\\n\")\n",
    "print(color)"
   ]
  }
 ],
 "metadata": {
  "kernelspec": {
   "display_name": "venv",
   "language": "python",
   "name": "python3"
  },
  "language_info": {
   "codemirror_mode": {
    "name": "ipython",
    "version": 3
   },
   "file_extension": ".py",
   "mimetype": "text/x-python",
   "name": "python",
   "nbconvert_exporter": "python",
   "pygments_lexer": "ipython3",
   "version": "3.10.12"
  }
 },
 "nbformat": 4,
 "nbformat_minor": 5
}
