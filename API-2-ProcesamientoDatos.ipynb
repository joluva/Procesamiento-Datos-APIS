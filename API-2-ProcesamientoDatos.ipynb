{
 "cells": [
  {
   "cell_type": "markdown",
   "id": "f047b6bc",
   "metadata": {},
   "source": [
    "# API-2 Módulo 2 Procesamiento de Datos"
   ]
  },
  {
   "cell_type": "code",
   "execution_count": 2,
   "id": "398623ac",
   "metadata": {},
   "outputs": [],
   "source": [
    "# importamos las bibliotecas pandas y numpy\n",
    "import pandas as pd \n",
    "import numpy as np"
   ]
  },
  {
   "cell_type": "markdown",
   "id": "28d63803",
   "metadata": {},
   "source": [
    "## Creación de array usando numpy"
   ]
  },
  {
   "cell_type": "code",
   "execution_count": null,
   "id": "8bf49713",
   "metadata": {},
   "outputs": [
    {
     "name": "stdout",
     "output_type": "stream",
     "text": [
      "\n",
      "Impresion array 3D\n",
      "\n",
      "[[[75 61 71]]\n",
      "\n",
      " [[83 35 31]]] \n",
      "\n"
     ]
    }
   ],
   "source": [
    "# diseño de array 3D usando la función random de numpy\n",
    "array3d=np.random.randint(1,100,size=(2,1,3))\n",
    "\n",
    "print(\"\\nImpresion array 3D\\n\")\n",
    "print(array3d,\"\\n\")"
   ]
  },
  {
   "cell_type": "markdown",
   "id": "c068eb2e",
   "metadata": {},
   "source": [
    "## Como ubicar un dato específico en un array 3D"
   ]
  },
  {
   "cell_type": "code",
   "execution_count": 8,
   "id": "3a3a6663",
   "metadata": {},
   "outputs": [
    {
     "name": "stdout",
     "output_type": "stream",
     "text": [
      "\n",
      "Mostrar dato del array 3D\n",
      "\n",
      "Selecciono primer índice 1, primer bloque\n",
      "\n",
      "Selecciono segundo índice 1, dentro del primer bloque, elijo segunda fila\n",
      "\n",
      "Selecciono tercer índice 2, segunda capa\n",
      "\n",
      "Resultado de la busqueda:  31\n"
     ]
    }
   ],
   "source": [
    "# muestro dato del array\n",
    "print(\"\\nMostrar dato del array 3D\\n\")\n",
    "print(\"Selecciono primer índice 1, primer bloque\\n\")\n",
    "print(\"Selecciono segundo índice 1, dentro del primer bloque, elijo segunda fila\\n\")\n",
    "print(\"Selecciono tercer índice 2, segunda capa\\n\")\n",
    "print(\"Resultado de la busqueda: \", array3d[1,0,2])"
   ]
  },
  {
   "cell_type": "markdown",
   "id": "501e9193",
   "metadata": {},
   "source": [
    "## Usando la funcion - append - agregamos datos al array"
   ]
  },
  {
   "cell_type": "code",
   "execution_count": null,
   "id": "f43552ca",
   "metadata": {},
   "outputs": [
    {
     "name": "stdout",
     "output_type": "stream",
     "text": [
      "\n",
      "Agredo datos \n",
      "\n",
      "[[[ 75  61  71]]\n",
      "\n",
      " [[ 83  35  31]]\n",
      "\n",
      " [[100 200 300]]]\n"
     ]
    }
   ],
   "source": [
    "# convierto la nueva fila a shape (1, 3)\n",
    "columnas_nuevas=np.array([[[100,200,300]]]).reshape(1,1,3)\n",
    "\n",
    "# uso append con axis=1 para agregar filas\n",
    "array3d=np.append(array3d,columnas_nuevas, axis=0)\n",
    "\n",
    "print(\"\\nAgredo datos \\n\")\n",
    "print(array3d)"
   ]
  },
  {
   "cell_type": "markdown",
   "id": "8fa59ceb",
   "metadata": {},
   "source": [
    "## Convertir un array 3D en uno de 2D para tener un shape (3,3)"
   ]
  },
  {
   "cell_type": "code",
   "execution_count": 10,
   "id": "fcc8b187",
   "metadata": {},
   "outputs": [
    {
     "name": "stdout",
     "output_type": "stream",
     "text": [
      "\n",
      "Informe de la dimensión del array 2D:\n",
      "\n",
      "[[ 75  61  71]\n",
      " [ 83  35  31]\n",
      " [100 200 300]] \n",
      "\n",
      "(3, 3)\n"
     ]
    }
   ],
   "source": [
    "# convierto el array 3d a uno de 2d para que el shape sea (3,3)\n",
    "array2d=array3d.reshape(3,3)\n",
    "    \n",
    "print(\"\\nInforme de la dimensión del array 2D:\\n\")\n",
    "print(array2d,\"\\n\")\n",
    "print(array2d.shape)"
   ]
  },
  {
   "cell_type": "markdown",
   "id": "48738767",
   "metadata": {},
   "source": [
    "## Usando pandas creo dos series distintas unas de marcas_productos y otra color_cantidad"
   ]
  },
  {
   "cell_type": "code",
   "execution_count": 26,
   "id": "77ac2ce8",
   "metadata": {},
   "outputs": [
    {
     "name": "stdout",
     "output_type": "stream",
     "text": [
      "\n",
      "Muestra Serie marca_producto\n",
      "\n",
      "0    Motorola\n",
      "1     Samsung\n",
      "2      Philco\n",
      "3       Dream\n",
      "dtype: object\n"
     ]
    }
   ],
   "source": [
    "# creo serie marca_productos\n",
    "productos=pd.Series([\"Motorola\",\"Samsung\",\"Philco\",\"Dream\"], index=range(4))\n",
    "print(\"\\nMuestra Serie marca_producto\\n\")\n",
    "print(productos)"
   ]
  },
  {
   "cell_type": "code",
   "execution_count": 27,
   "id": "d6fe0f87",
   "metadata": {},
   "outputs": [
    {
     "name": "stdout",
     "output_type": "stream",
     "text": [
      "\n",
      "Muestra Serie color_cantidad\n",
      "\n",
      "Azul       10\n",
      "Blanco      5\n",
      "Celeste    34\n",
      "Negro      67\n",
      "Rojo       59\n",
      "dtype: int64\n"
     ]
    }
   ],
   "source": [
    "# creo la serie color_cantidad con el nombre de color en la columna de indice\n",
    "color=pd.Series([10,5,34,67,59], index=['Azul','Blanco','Celeste','Negro','Rojo'])\n",
    "print(\"\\nMuestra Serie color_cantidad\\n\")\n",
    "print(color)"
   ]
  }
 ],
 "metadata": {
  "kernelspec": {
   "display_name": "venv",
   "language": "python",
   "name": "python3"
  },
  "language_info": {
   "codemirror_mode": {
    "name": "ipython",
    "version": 3
   },
   "file_extension": ".py",
   "mimetype": "text/x-python",
   "name": "python",
   "nbconvert_exporter": "python",
   "pygments_lexer": "ipython3",
   "version": "3.10.12"
  }
 },
 "nbformat": 4,
 "nbformat_minor": 5
}
