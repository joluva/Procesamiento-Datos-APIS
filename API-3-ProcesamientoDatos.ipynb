{
 "cells": [
  {
   "cell_type": "markdown",
   "id": "ee100c17",
   "metadata": {},
   "source": [
    "## Aplicar los visto en el MOD-3 "
   ]
  },
  {
   "cell_type": "code",
   "execution_count": 4,
   "id": "7d96119b",
   "metadata": {},
   "outputs": [],
   "source": [
    "# importar las librerias pandas y numpy\n",
    "import pandas as pd\n",
    "import numpy as np"
   ]
  },
  {
   "cell_type": "markdown",
   "id": "565bab00",
   "metadata": {},
   "source": [
    "# Creación de una serie utilizando pandas"
   ]
  },
  {
   "cell_type": "code",
   "execution_count": 10,
   "id": "fc88fdfc",
   "metadata": {},
   "outputs": [
    {
     "name": "stdout",
     "output_type": "stream",
     "text": [
      "Listado de la serie marca_autos:\n",
      "\n",
      "1        BMW\n",
      "4     CITOEN\n",
      "5       FIAT\n",
      "3       FORD\n",
      "0    RENAULT\n",
      "2     TOYOTA\n",
      "dtype: object\n"
     ]
    }
   ],
   "source": [
    "# crear una serie usando pandas con marcas de autos y mostrar de forma ordenada\n",
    "autos=['RENAULT','BMW','TOYOTA','FORD','CITOEN','FIAT']\n",
    "marca_autos=pd.Series(autos)\n",
    "\n",
    "print(\"Listado de la serie marca_autos:\\n\")\n",
    "print(marca_autos.sort_values())"
   ]
  },
  {
   "cell_type": "markdown",
   "id": "a3ab81bd",
   "metadata": {},
   "source": [
    "# Generar Data Frame con usuarios y mostrar la salida"
   ]
  },
  {
   "cell_type": "code",
   "execution_count": 19,
   "id": "6556aa29",
   "metadata": {},
   "outputs": [
    {
     "name": "stdout",
     "output_type": "stream",
     "text": [
      "       fecha  usuarios  consultas\n",
      "0 2025-07-01    vjorge          3\n",
      "1 2025-06-20  dliliana          7\n",
      "2 2025-06-24   gcarlos          1\n",
      "3 2025-06-29     pjose          5\n"
     ]
    }
   ],
   "source": [
    "# creacion de un data frame y mostrar salida de datos\n",
    "usuarios=['vjorge','dliliana', 'gcarlos','pjose']\n",
    "fecha=['2025-07-01','2025-06-20','2025-06-24','2025-06-29']\n",
    "consultas=[3,7,1,5]\n",
    "\n",
    "# creo un diccionario\n",
    "datos={'fecha':fecha,'usuarios':usuarios,'consultas':consultas}\n",
    "\n",
    "# creo el data frame\n",
    "df_usuarios=pd.DataFrame(datos)\n",
    "\n",
    "df_usuarios['fecha']=pd.to_datetime(df_usuarios['fecha'])\n",
    "\n",
    "print(df_usuarios)"
   ]
  },
  {
   "cell_type": "markdown",
   "id": "d13e0765",
   "metadata": {},
   "source": [
    "# Crear tabla dinámica usando pandas a través de un Data Frame"
   ]
  },
  {
   "cell_type": "code",
   "execution_count": 23,
   "id": "350f76b3",
   "metadata": {},
   "outputs": [
    {
     "name": "stdout",
     "output_type": "stream",
     "text": [
      "  nombres      fecha  consumos\n",
      "0  Carlos 2025-03-02      2200\n",
      "1    Aldo 2025-04-25      1500\n",
      "2   Maria 2025-05-16      3200\n",
      "3  Silvia 2025-07-02      4700\n"
     ]
    }
   ],
   "source": [
    "# creo un data frame con los datos nombre fecha consumo mensual\n",
    "planilla_enero=pd.DataFrame({'nombres':['Carlos','Aldo','Maria','Silvia'],\n",
    "                            'fecha':['2025-03-02','2025-04-25','2025-05-16','2025-07-02'],\n",
    "                            'consumos':[2200,1500,3200,4700]})\n",
    "\n",
    "planilla_enero['fecha']=pd.to_datetime(planilla_enero['fecha'])\n",
    "\n",
    "print(planilla_enero)\n"
   ]
  },
  {
   "cell_type": "markdown",
   "id": "596c039d",
   "metadata": {},
   "source": [
    "# genero una tabla dinámica partiendo del data frame planilla_enero"
   ]
  },
  {
   "cell_type": "code",
   "execution_count": 28,
   "id": "cf402e1b",
   "metadata": {},
   "outputs": [
    {
     "name": "stdout",
     "output_type": "stream",
     "text": [
      "fecha    2025-03-02  2025-04-25  2025-05-16  2025-07-02\n",
      "nombres                                                \n",
      "Aldo            NaN      1500.0         NaN         NaN\n",
      "Carlos       2200.0         NaN         NaN         NaN\n",
      "Maria           NaN         NaN      3200.0         NaN\n",
      "Silvia          NaN         NaN         NaN      4700.0\n"
     ]
    }
   ],
   "source": [
    "# creo la tabla dinamica usando pivot_table\n",
    "tabla_pivot=planilla_enero.pivot_table(index='nombres',columns='fecha',values='consumos')\n",
    "\n",
    "print(tabla_pivot)"
   ]
  }
 ],
 "metadata": {
  "kernelspec": {
   "display_name": "venv",
   "language": "python",
   "name": "python3"
  },
  "language_info": {
   "codemirror_mode": {
    "name": "ipython",
    "version": 3
   },
   "file_extension": ".py",
   "mimetype": "text/x-python",
   "name": "python",
   "nbconvert_exporter": "python",
   "pygments_lexer": "ipython3",
   "version": "3.10.12"
  }
 },
 "nbformat": 4,
 "nbformat_minor": 5
}
